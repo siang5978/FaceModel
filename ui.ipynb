{
 "cells": [
  {
   "cell_type": "code",
   "execution_count": null,
   "id": "d0f58436-9cda-477f-adce-e4b81282d386",
   "metadata": {},
   "outputs": [],
   "source": [
    "import streamlit as st\n",
    "import numpy as np\n",
    "import os\n",
    "from tensorflow.keras.models import load_model\n",
    "from tensorflow.keras.preprocessing.image import load_img, img_to_array\n",
    "import urllib.request\n",
    "\n",
    "# Define the GitHub URL for your model\n",
    "model_url = 'https://github.com/siang5978/FaceModel/raw/main/race_model.keras'\n",
    "\n",
    "# Download the model from GitHub if it doesn't exist locally\n",
    "model_path = 'race_model.keras'\n",
    "if not os.path.exists(model_path):\n",
    "    st.write(\"Downloading model...\")\n",
    "    urllib.request.urlretrieve(model_url, model_path)\n",
    "    st.write(\"Model downloaded successfully!\")\n",
    "\n",
    "# Load the trained model\n",
    "race_model = load_model(model_path)\n",
    "\n",
    "# Define a function to preprocess the image for the model\n",
    "def preprocess_image(image, target_size=(200, 200)):\n",
    "    img = image.resize(target_size)  # Resize the image to match the model input\n",
    "    img_array = img_to_array(img)    # Convert to array\n",
    "    img_array = np.expand_dims(img_array, axis=0)  # Add batch dimension\n",
    "    img_array = img_array / 255.0    # Normalize pixel values\n",
    "    return img_array\n",
    "\n",
    "# Define a function to get race label\n",
    "def get_race_label(race_index):\n",
    "    race_dict = {0: 'White', 1: 'Black', 2: 'Asian', 3: 'Indian'}\n",
    "    return race_dict.get(race_index, 'Unknown')\n",
    "\n",
    "# Streamlit app title\n",
    "st.title(\"Race Classification App\")\n",
    "\n",
    "# Upload an image\n",
    "uploaded_image = st.file_uploader(\"Upload an image...\", type=[\"jpg\", \"jpeg\", \"png\"])\n",
    "\n",
    "if uploaded_image is not None:\n",
    "    # Display the uploaded image\n",
    "    st.image(uploaded_image, caption='Uploaded Image', use_column_width=True)\n",
    "    st.write(\"\")\n",
    "    st.write(\"Classifying...\")\n",
    "\n",
    "    # Preprocess the image\n",
    "    img = load_img(uploaded_image)\n",
    "    img_preprocessed = preprocess_image(img)\n",
    "\n",
    "    # Make a prediction\n",
    "    predictions = race_model.predict(img_preprocessed)\n",
    "    predicted_race = np.argmax(predictions, axis=1)[0]\n",
    "\n",
    "    # Display the prediction\n",
    "    race_label = get_race_label(predicted_race)\n",
    "    st.write(f\"Predicted Race: **{race_label}**\")\n"
   ]
  },
  {
   "cell_type": "code",
   "execution_count": null,
   "id": "0e4a0e4b-7ea2-4d31-9ad2-5173dfc7d293",
   "metadata": {},
   "outputs": [],
   "source": []
  }
 ],
 "metadata": {
  "kernelspec": {
   "display_name": "Python 3 (ipykernel)",
   "language": "python",
   "name": "python3"
  },
  "language_info": {
   "codemirror_mode": {
    "name": "ipython",
    "version": 3
   },
   "file_extension": ".py",
   "mimetype": "text/x-python",
   "name": "python",
   "nbconvert_exporter": "python",
   "pygments_lexer": "ipython3",
   "version": "3.12.4"
  }
 },
 "nbformat": 4,
 "nbformat_minor": 5
}
